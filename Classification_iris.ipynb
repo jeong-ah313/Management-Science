{
 "cells": [
  {
   "cell_type": "markdown",
   "metadata": {},
   "source": [
    "### Report11. iris classification\n",
    "##### 산업공학과 201811944 성정아"
   ]
  },
  {
   "cell_type": "markdown",
   "metadata": {},
   "source": [
    " iris 꽂의 종분류를 위해  k Nearest Neighbors 알고리즘 적용 문제\n",
    "\n",
    " k값을 1,3,5,7로 변경하면서  훈련집합과 테스트집합의  정확도를\n",
    "\n",
    " 그래프로 확인하는 프로그램 작성  (breast_cancer classification 참고)"
   ]
  },
  {
   "cell_type": "code",
   "execution_count": 1,
   "metadata": {},
   "outputs": [],
   "source": [
    "import sklearn\n",
    "import numpy as np\n",
    "import matplotlib.pyplot as plt"
   ]
  },
  {
   "cell_type": "code",
   "execution_count": 2,
   "metadata": {},
   "outputs": [
    {
     "data": {
      "image/png": "[encoded data removed]",
      "text/plain": [
       "<Figure size 432x288 with 1 Axes>"
      ]
     },
     "metadata": {
      "needs_background": "light"
     },
     "output_type": "display_data"
    }
   ],
   "source": [
    "#scikit learn 제공되는 아이리스 데이터 셋 가져오기\n",
    "from sklearn.datasets import load_iris\n",
    "from sklearn.model_selection import train_test_split\n",
    "from sklearn.neighbors import KNeighborsClassifier\n",
    "from sklearn.metrics import accuracy_score\n",
    "\n",
    "iris = load_iris()\n",
    "\n",
    "X_train, X_test, y_train, y_test = train_test_split(iris.data, iris.target,\n",
    "                                                   stratify=iris.target, random_state=66)\n",
    "\n",
    "#1NN\n",
    "#1-NN 으로 classification\n",
    "knn = KNeighborsClassifier(n_neighbors=1)\n",
    "knn.fit(X_train, y_train)\n",
    "\n",
    "#훈련세트정확도 저장\n",
    "y_pred = knn.predict(X_train)             \n",
    "train_acc1 = accuracy_score(y_train, y_pred)\n",
    "\n",
    "#테스트 데이터의 성능 확인\n",
    "y_pred = knn.predict(X_test)             \n",
    "test_acc1 = accuracy_score(y_test, y_pred)\n",
    "\n",
    "\n",
    "#3NN\n",
    "#3-NN 으로 classification\n",
    "knn = KNeighborsClassifier(n_neighbors=3)\n",
    "knn.fit(X_train, y_train)\n",
    "\n",
    "#훈련세트정확도 저장\n",
    "y_pred = knn.predict(X_train)             \n",
    "train_acc3 = accuracy_score(y_train, y_pred)\n",
    "\n",
    "#테스트 데이터의 성능 확인\n",
    "y_pred = knn.predict(X_test)             \n",
    "test_acc3 = accuracy_score(y_test, y_pred)\n",
    "\n",
    "\n",
    "#5NN\n",
    "#5-NN 으로 classification\n",
    "knn = KNeighborsClassifier(n_neighbors=5)\n",
    "knn.fit(X_train, y_train)\n",
    "\n",
    "#훈련세트정확도 저장\n",
    "y_pred = knn.predict(X_train)             \n",
    "train_acc5 = accuracy_score(y_train, y_pred)\n",
    "\n",
    "#테스트 데이터의 성능 확인\n",
    "y_pred = knn.predict(X_test)             \n",
    "test_acc5 = accuracy_score(y_test, y_pred)\n",
    "\n",
    "\n",
    "#7NN\n",
    "#7-NN 으로 classification-train\n",
    "knn = KNeighborsClassifier(n_neighbors=7)\n",
    "knn.fit(X_train, y_train)\n",
    "\n",
    "#훈련세트정확도 저장\n",
    "y_pred = knn.predict(X_train)             \n",
    "train_acc7 = accuracy_score(y_train, y_pred)\n",
    "\n",
    "#테스트 데이터의 성능 확인\n",
    "y_pred = knn.predict(X_test)             \n",
    "test_acc7 = accuracy_score(y_test, y_pred)\n",
    "\n",
    "\n",
    "train_acc=[train_acc1, train_acc3, train_acc5, train_acc7]\n",
    "test_acc=[test_acc1, test_acc3, test_acc5, test_acc7]\n",
    "\n",
    "x_label=[1,3,5,7]\n",
    "\n",
    "plt.plot(x_label, train_acc, marker='x')\n",
    "plt.plot(x_label, test_acc, marker='x')\n",
    "plt.ylabel(\"accuracy\")\n",
    "plt.xlabel(\"n_neighbors\")\n",
    "plt.show()"
   ]
  },
  {
   "cell_type": "code",
   "execution_count": null,
   "metadata": {},
   "outputs": [],
   "source": []
  }
 ],
 "metadata": {
  "kernelspec": {
   "display_name": "Python 3",
   "language": "python",
   "name": "python3"
  },
  "language_info": {
   "codemirror_mode": {
    "name": "ipython",
    "version": 3
   },
   "file_extension": ".py",
   "mimetype": "text/x-python",
   "name": "python",
   "nbconvert_exporter": "python",
   "pygments_lexer": "ipython3",
   "version": "3.7.6"
  }
 },
 "nbformat": 4,
 "nbformat_minor": 4
}
