{
 "cells": [
  {
   "cell_type": "code",
   "execution_count": 2,
   "metadata": {},
   "outputs": [],
   "source": [
    "#필요한 라이브러리 불러오기\n",
    "import pandas as pd\n",
    "import numpy as np\n",
    "import matplotlib.pyplot as plt"
   ]
  },
  {
   "cell_type": "code",
   "execution_count": 3,
   "metadata": {},
   "outputs": [],
   "source": [
    "%matplotlib inline"
   ]
  },
  {
   "cell_type": "code",
   "execution_count": 4,
   "metadata": {},
   "outputs": [
    {
     "data": {
      "text/html": [
       "<div>\n",
       "<style scoped>\n",
       "    .dataframe tbody tr th:only-of-type {\n",
       "        vertical-align: middle;\n",
       "    }\n",
       "\n",
       "    .dataframe tbody tr th {\n",
       "        vertical-align: top;\n",
       "    }\n",
       "\n",
       "    .dataframe thead th {\n",
       "        text-align: right;\n",
       "    }\n",
       "</style>\n",
       "<table border=\"1\" class=\"dataframe\">\n",
       "  <thead>\n",
       "    <tr style=\"text-align: right;\">\n",
       "      <th></th>\n",
       "      <th>통계표명:</th>\n",
       "      <th>앞으로 하고 싶은 여가활동(2015~2017,복수응답)</th>\n",
       "      <th>Unnamed: 2</th>\n",
       "      <th>Unnamed: 3</th>\n",
       "      <th>Unnamed: 4</th>\n",
       "      <th>Unnamed: 5</th>\n",
       "      <th>Unnamed: 6</th>\n",
       "      <th>Unnamed: 7</th>\n",
       "      <th>Unnamed: 8</th>\n",
       "      <th>Unnamed: 9</th>\n",
       "      <th>...</th>\n",
       "      <th>Unnamed: 18</th>\n",
       "      <th>Unnamed: 19</th>\n",
       "      <th>Unnamed: 20</th>\n",
       "      <th>Unnamed: 21</th>\n",
       "      <th>Unnamed: 22</th>\n",
       "      <th>Unnamed: 23</th>\n",
       "      <th>Unnamed: 24</th>\n",
       "      <th>Unnamed: 25</th>\n",
       "      <th>Unnamed: 26</th>\n",
       "      <th>Unnamed: 27</th>\n",
       "    </tr>\n",
       "  </thead>\n",
       "  <tbody>\n",
       "    <tr>\n",
       "      <th>0</th>\n",
       "      <td>단위:</td>\n",
       "      <td>%</td>\n",
       "      <td>NaN</td>\n",
       "      <td>NaN</td>\n",
       "      <td>NaN</td>\n",
       "      <td>NaN</td>\n",
       "      <td>NaN</td>\n",
       "      <td>NaN</td>\n",
       "      <td>NaN</td>\n",
       "      <td>NaN</td>\n",
       "      <td>...</td>\n",
       "      <td>NaN</td>\n",
       "      <td>NaN</td>\n",
       "      <td>NaN</td>\n",
       "      <td>NaN</td>\n",
       "      <td>NaN</td>\n",
       "      <td>NaN</td>\n",
       "      <td>NaN</td>\n",
       "      <td>NaN</td>\n",
       "      <td>NaN</td>\n",
       "      <td>NaN</td>\n",
       "    </tr>\n",
       "    <tr>\n",
       "      <th>1</th>\n",
       "      <td>NaN</td>\n",
       "      <td>2015</td>\n",
       "      <td>NaN</td>\n",
       "      <td>NaN</td>\n",
       "      <td>NaN</td>\n",
       "      <td>NaN</td>\n",
       "      <td>NaN</td>\n",
       "      <td>NaN</td>\n",
       "      <td>NaN</td>\n",
       "      <td>NaN</td>\n",
       "      <td>...</td>\n",
       "      <td>NaN</td>\n",
       "      <td>2019</td>\n",
       "      <td>NaN</td>\n",
       "      <td>NaN</td>\n",
       "      <td>NaN</td>\n",
       "      <td>NaN</td>\n",
       "      <td>NaN</td>\n",
       "      <td>NaN</td>\n",
       "      <td>NaN</td>\n",
       "      <td>NaN</td>\n",
       "    </tr>\n",
       "    <tr>\n",
       "      <th>2</th>\n",
       "      <td>NaN</td>\n",
       "      <td>전국</td>\n",
       "      <td>남자</td>\n",
       "      <td>여자</td>\n",
       "      <td>13~19세</td>\n",
       "      <td>20~29세</td>\n",
       "      <td>30~39세</td>\n",
       "      <td>40~49세</td>\n",
       "      <td>50~59세</td>\n",
       "      <td>60세이상</td>\n",
       "      <td>...</td>\n",
       "      <td>60세이상</td>\n",
       "      <td>전국</td>\n",
       "      <td>남자</td>\n",
       "      <td>여자</td>\n",
       "      <td>13~19세</td>\n",
       "      <td>20~29세</td>\n",
       "      <td>30~39세</td>\n",
       "      <td>40~49세</td>\n",
       "      <td>50~59세</td>\n",
       "      <td>60세이상</td>\n",
       "    </tr>\n",
       "    <tr>\n",
       "      <th>3</th>\n",
       "      <td>TV 및 DVD 시청</td>\n",
       "      <td>15.8</td>\n",
       "      <td>16.2</td>\n",
       "      <td>15.4</td>\n",
       "      <td>16.9</td>\n",
       "      <td>9.9</td>\n",
       "      <td>10.7</td>\n",
       "      <td>10.9</td>\n",
       "      <td>15.4</td>\n",
       "      <td>28.4</td>\n",
       "      <td>...</td>\n",
       "      <td>28.0</td>\n",
       "      <td>17.9</td>\n",
       "      <td>18.8</td>\n",
       "      <td>17.0</td>\n",
       "      <td>16.8</td>\n",
       "      <td>11.2</td>\n",
       "      <td>10.7</td>\n",
       "      <td>13.5</td>\n",
       "      <td>15.9</td>\n",
       "      <td>31.5</td>\n",
       "    </tr>\n",
       "    <tr>\n",
       "      <th>4</th>\n",
       "      <td>문화예술관람</td>\n",
       "      <td>34.2</td>\n",
       "      <td>28.0</td>\n",
       "      <td>40.3</td>\n",
       "      <td>45.8</td>\n",
       "      <td>45.9</td>\n",
       "      <td>43.3</td>\n",
       "      <td>38.6</td>\n",
       "      <td>27.7</td>\n",
       "      <td>15.0</td>\n",
       "      <td>...</td>\n",
       "      <td>20.6</td>\n",
       "      <td>38.9</td>\n",
       "      <td>32.0</td>\n",
       "      <td>45.8</td>\n",
       "      <td>46.2</td>\n",
       "      <td>49.9</td>\n",
       "      <td>47.4</td>\n",
       "      <td>45.1</td>\n",
       "      <td>35.9</td>\n",
       "      <td>22.4</td>\n",
       "    </tr>\n",
       "    <tr>\n",
       "      <th>5</th>\n",
       "      <td>문화예술참여</td>\n",
       "      <td>9.2</td>\n",
       "      <td>8.6</td>\n",
       "      <td>9.8</td>\n",
       "      <td>12.4</td>\n",
       "      <td>13.2</td>\n",
       "      <td>10.3</td>\n",
       "      <td>9.3</td>\n",
       "      <td>8.7</td>\n",
       "      <td>4.4</td>\n",
       "      <td>...</td>\n",
       "      <td>5.6</td>\n",
       "      <td>10.7</td>\n",
       "      <td>9.1</td>\n",
       "      <td>12.2</td>\n",
       "      <td>12.7</td>\n",
       "      <td>14.2</td>\n",
       "      <td>12.1</td>\n",
       "      <td>12.1</td>\n",
       "      <td>10.3</td>\n",
       "      <td>6.2</td>\n",
       "    </tr>\n",
       "    <tr>\n",
       "      <th>6</th>\n",
       "      <td>스포츠관람</td>\n",
       "      <td>9.4</td>\n",
       "      <td>15.1</td>\n",
       "      <td>3.8</td>\n",
       "      <td>12.1</td>\n",
       "      <td>13.1</td>\n",
       "      <td>10.9</td>\n",
       "      <td>10.0</td>\n",
       "      <td>8.6</td>\n",
       "      <td>4.5</td>\n",
       "      <td>...</td>\n",
       "      <td>5.5</td>\n",
       "      <td>10.8</td>\n",
       "      <td>17.2</td>\n",
       "      <td>4.6</td>\n",
       "      <td>15.5</td>\n",
       "      <td>13.2</td>\n",
       "      <td>12.2</td>\n",
       "      <td>10.7</td>\n",
       "      <td>10.9</td>\n",
       "      <td>7.2</td>\n",
       "    </tr>\n",
       "    <tr>\n",
       "      <th>7</th>\n",
       "      <td>스포츠 활동</td>\n",
       "      <td>24.1</td>\n",
       "      <td>32.9</td>\n",
       "      <td>15.6</td>\n",
       "      <td>31.0</td>\n",
       "      <td>28.5</td>\n",
       "      <td>30.2</td>\n",
       "      <td>29.6</td>\n",
       "      <td>22.3</td>\n",
       "      <td>9.4</td>\n",
       "      <td>...</td>\n",
       "      <td>14.4</td>\n",
       "      <td>24.4</td>\n",
       "      <td>33.0</td>\n",
       "      <td>16.0</td>\n",
       "      <td>25.8</td>\n",
       "      <td>26.0</td>\n",
       "      <td>28.3</td>\n",
       "      <td>30.2</td>\n",
       "      <td>26.1</td>\n",
       "      <td>14.8</td>\n",
       "    </tr>\n",
       "    <tr>\n",
       "      <th>8</th>\n",
       "      <td>관광활동</td>\n",
       "      <td>59.4</td>\n",
       "      <td>56.1</td>\n",
       "      <td>62.6</td>\n",
       "      <td>44.9</td>\n",
       "      <td>58.4</td>\n",
       "      <td>64.8</td>\n",
       "      <td>65.3</td>\n",
       "      <td>62.8</td>\n",
       "      <td>54.0</td>\n",
       "      <td>...</td>\n",
       "      <td>68.9</td>\n",
       "      <td>70.0</td>\n",
       "      <td>66.9</td>\n",
       "      <td>73.0</td>\n",
       "      <td>52.0</td>\n",
       "      <td>67.0</td>\n",
       "      <td>73.9</td>\n",
       "      <td>74.8</td>\n",
       "      <td>74.7</td>\n",
       "      <td>67.7</td>\n",
       "    </tr>\n",
       "    <tr>\n",
       "      <th>9</th>\n",
       "      <td>컴퓨터 게임, 인터넷 검색 등</td>\n",
       "      <td>5.6</td>\n",
       "      <td>8.7</td>\n",
       "      <td>2.6</td>\n",
       "      <td>21.5</td>\n",
       "      <td>9.7</td>\n",
       "      <td>5.0</td>\n",
       "      <td>2.9</td>\n",
       "      <td>2.1</td>\n",
       "      <td>1.3</td>\n",
       "      <td>...</td>\n",
       "      <td>1.7</td>\n",
       "      <td>9.7</td>\n",
       "      <td>14.7</td>\n",
       "      <td>4.8</td>\n",
       "      <td>39.0</td>\n",
       "      <td>18.7</td>\n",
       "      <td>10.3</td>\n",
       "      <td>5.8</td>\n",
       "      <td>3.4</td>\n",
       "      <td>2.4</td>\n",
       "    </tr>\n",
       "    <tr>\n",
       "      <th>10</th>\n",
       "      <td>취미.자기개발 활동</td>\n",
       "      <td>34.2</td>\n",
       "      <td>31.2</td>\n",
       "      <td>37.1</td>\n",
       "      <td>38.8</td>\n",
       "      <td>42.2</td>\n",
       "      <td>41.5</td>\n",
       "      <td>37.5</td>\n",
       "      <td>31.8</td>\n",
       "      <td>19.5</td>\n",
       "      <td>...</td>\n",
       "      <td>31.5</td>\n",
       "      <td>46.7</td>\n",
       "      <td>42.7</td>\n",
       "      <td>50.6</td>\n",
       "      <td>44.8</td>\n",
       "      <td>54.1</td>\n",
       "      <td>56.3</td>\n",
       "      <td>52.5</td>\n",
       "      <td>46.7</td>\n",
       "      <td>32.5</td>\n",
       "    </tr>\n",
       "    <tr>\n",
       "      <th>11</th>\n",
       "      <td>휴식활동</td>\n",
       "      <td>20.4</td>\n",
       "      <td>19.7</td>\n",
       "      <td>21.0</td>\n",
       "      <td>19.4</td>\n",
       "      <td>16.7</td>\n",
       "      <td>18.7</td>\n",
       "      <td>17.9</td>\n",
       "      <td>19.4</td>\n",
       "      <td>27.8</td>\n",
       "      <td>...</td>\n",
       "      <td>30.6</td>\n",
       "      <td>27.5</td>\n",
       "      <td>26.8</td>\n",
       "      <td>28.1</td>\n",
       "      <td>30.1</td>\n",
       "      <td>23.2</td>\n",
       "      <td>24.6</td>\n",
       "      <td>24.4</td>\n",
       "      <td>25.2</td>\n",
       "      <td>35.0</td>\n",
       "    </tr>\n",
       "    <tr>\n",
       "      <th>12</th>\n",
       "      <td>사회 및 기타 활동</td>\n",
       "      <td>16.1</td>\n",
       "      <td>12.9</td>\n",
       "      <td>19.2</td>\n",
       "      <td>7.6</td>\n",
       "      <td>9.9</td>\n",
       "      <td>9.5</td>\n",
       "      <td>16.3</td>\n",
       "      <td>22.6</td>\n",
       "      <td>24.0</td>\n",
       "      <td>...</td>\n",
       "      <td>30.6</td>\n",
       "      <td>18.5</td>\n",
       "      <td>15.0</td>\n",
       "      <td>21.9</td>\n",
       "      <td>6.2</td>\n",
       "      <td>10.2</td>\n",
       "      <td>11.0</td>\n",
       "      <td>16.0</td>\n",
       "      <td>24.4</td>\n",
       "      <td>29.5</td>\n",
       "    </tr>\n",
       "    <tr>\n",
       "      <th>13</th>\n",
       "      <td>기타</td>\n",
       "      <td>0.2</td>\n",
       "      <td>0.2</td>\n",
       "      <td>0.2</td>\n",
       "      <td>0.3</td>\n",
       "      <td>0.0</td>\n",
       "      <td>0.1</td>\n",
       "      <td>0.1</td>\n",
       "      <td>0.4</td>\n",
       "      <td>0.4</td>\n",
       "      <td>...</td>\n",
       "      <td>0.5</td>\n",
       "      <td>0.2</td>\n",
       "      <td>0.2</td>\n",
       "      <td>0.2</td>\n",
       "      <td>0.3</td>\n",
       "      <td>0.1</td>\n",
       "      <td>0.0</td>\n",
       "      <td>0.0</td>\n",
       "      <td>0.1</td>\n",
       "      <td>0.4</td>\n",
       "    </tr>\n",
       "    <tr>\n",
       "      <th>14</th>\n",
       "      <td>출처:</td>\n",
       "      <td>통계청,「사회조사」각년도</td>\n",
       "      <td>NaN</td>\n",
       "      <td>NaN</td>\n",
       "      <td>NaN</td>\n",
       "      <td>NaN</td>\n",
       "      <td>NaN</td>\n",
       "      <td>NaN</td>\n",
       "      <td>NaN</td>\n",
       "      <td>NaN</td>\n",
       "      <td>...</td>\n",
       "      <td>NaN</td>\n",
       "      <td>NaN</td>\n",
       "      <td>NaN</td>\n",
       "      <td>NaN</td>\n",
       "      <td>NaN</td>\n",
       "      <td>NaN</td>\n",
       "      <td>NaN</td>\n",
       "      <td>NaN</td>\n",
       "      <td>NaN</td>\n",
       "      <td>NaN</td>\n",
       "    </tr>\n",
       "    <tr>\n",
       "      <th>15</th>\n",
       "      <td>주석:</td>\n",
       "      <td>통계생산주기 : 2년 (2019년 자료 12월 말 입력예정)</td>\n",
       "      <td>NaN</td>\n",
       "      <td>NaN</td>\n",
       "      <td>NaN</td>\n",
       "      <td>NaN</td>\n",
       "      <td>NaN</td>\n",
       "      <td>NaN</td>\n",
       "      <td>NaN</td>\n",
       "      <td>NaN</td>\n",
       "      <td>...</td>\n",
       "      <td>NaN</td>\n",
       "      <td>NaN</td>\n",
       "      <td>NaN</td>\n",
       "      <td>NaN</td>\n",
       "      <td>NaN</td>\n",
       "      <td>NaN</td>\n",
       "      <td>NaN</td>\n",
       "      <td>NaN</td>\n",
       "      <td>NaN</td>\n",
       "      <td>NaN</td>\n",
       "    </tr>\n",
       "  </tbody>\n",
       "</table>\n",
       "<p>16 rows × 28 columns</p>\n",
       "</div>"
      ],
      "text/plain": [
       "               통계표명:     앞으로 하고 싶은 여가활동(2015~2017,복수응답) Unnamed: 2 Unnamed: 3  \\\n",
       "0                단위:                                  %        NaN        NaN   \n",
       "1                NaN                               2015        NaN        NaN   \n",
       "2                NaN                                 전국         남자         여자   \n",
       "3        TV 및 DVD 시청                               15.8       16.2       15.4   \n",
       "4             문화예술관람                               34.2       28.0       40.3   \n",
       "5             문화예술참여                                9.2        8.6        9.8   \n",
       "6              스포츠관람                                9.4       15.1        3.8   \n",
       "7             스포츠 활동                               24.1       32.9       15.6   \n",
       "8               관광활동                               59.4       56.1       62.6   \n",
       "9   컴퓨터 게임, 인터넷 검색 등                                5.6        8.7        2.6   \n",
       "10        취미.자기개발 활동                               34.2       31.2       37.1   \n",
       "11              휴식활동                               20.4       19.7       21.0   \n",
       "12        사회 및 기타 활동                               16.1       12.9       19.2   \n",
       "13                기타                                0.2        0.2        0.2   \n",
       "14               출처:                      통계청,「사회조사」각년도        NaN        NaN   \n",
       "15               주석:  통계생산주기 : 2년 (2019년 자료 12월 말 입력예정)        NaN        NaN   \n",
       "\n",
       "   Unnamed: 4 Unnamed: 5 Unnamed: 6 Unnamed: 7 Unnamed: 8 Unnamed: 9  ...  \\\n",
       "0         NaN        NaN        NaN        NaN        NaN        NaN  ...   \n",
       "1         NaN        NaN        NaN        NaN        NaN        NaN  ...   \n",
       "2      13~19세     20~29세     30~39세     40~49세     50~59세      60세이상  ...   \n",
       "3        16.9        9.9       10.7       10.9       15.4       28.4  ...   \n",
       "4        45.8       45.9       43.3       38.6       27.7       15.0  ...   \n",
       "5        12.4       13.2       10.3        9.3        8.7        4.4  ...   \n",
       "6        12.1       13.1       10.9       10.0        8.6        4.5  ...   \n",
       "7        31.0       28.5       30.2       29.6       22.3        9.4  ...   \n",
       "8        44.9       58.4       64.8       65.3       62.8       54.0  ...   \n",
       "9        21.5        9.7        5.0        2.9        2.1        1.3  ...   \n",
       "10       38.8       42.2       41.5       37.5       31.8       19.5  ...   \n",
       "11       19.4       16.7       18.7       17.9       19.4       27.8  ...   \n",
       "12        7.6        9.9        9.5       16.3       22.6       24.0  ...   \n",
       "13        0.3        0.0        0.1        0.1        0.4        0.4  ...   \n",
       "14        NaN        NaN        NaN        NaN        NaN        NaN  ...   \n",
       "15        NaN        NaN        NaN        NaN        NaN        NaN  ...   \n",
       "\n",
       "   Unnamed: 18 Unnamed: 19 Unnamed: 20 Unnamed: 21 Unnamed: 22 Unnamed: 23  \\\n",
       "0          NaN         NaN         NaN         NaN         NaN         NaN   \n",
       "1          NaN        2019         NaN         NaN         NaN         NaN   \n",
       "2        60세이상          전국          남자          여자      13~19세      20~29세   \n",
       "3         28.0        17.9        18.8        17.0        16.8        11.2   \n",
       "4         20.6        38.9        32.0        45.8        46.2        49.9   \n",
       "5          5.6        10.7         9.1        12.2        12.7        14.2   \n",
       "6          5.5        10.8        17.2         4.6        15.5        13.2   \n",
       "7         14.4        24.4        33.0        16.0        25.8        26.0   \n",
       "8         68.9        70.0        66.9        73.0        52.0        67.0   \n",
       "9          1.7         9.7        14.7         4.8        39.0        18.7   \n",
       "10        31.5        46.7        42.7        50.6        44.8        54.1   \n",
       "11        30.6        27.5        26.8        28.1        30.1        23.2   \n",
       "12        30.6        18.5        15.0        21.9         6.2        10.2   \n",
       "13         0.5         0.2         0.2         0.2         0.3         0.1   \n",
       "14         NaN         NaN         NaN         NaN         NaN         NaN   \n",
       "15         NaN         NaN         NaN         NaN         NaN         NaN   \n",
       "\n",
       "   Unnamed: 24 Unnamed: 25 Unnamed: 26 Unnamed: 27  \n",
       "0          NaN         NaN         NaN         NaN  \n",
       "1          NaN         NaN         NaN         NaN  \n",
       "2       30~39세      40~49세      50~59세       60세이상  \n",
       "3         10.7        13.5        15.9        31.5  \n",
       "4         47.4        45.1        35.9        22.4  \n",
       "5         12.1        12.1        10.3         6.2  \n",
       "6         12.2        10.7        10.9         7.2  \n",
       "7         28.3        30.2        26.1        14.8  \n",
       "8         73.9        74.8        74.7        67.7  \n",
       "9         10.3         5.8         3.4         2.4  \n",
       "10        56.3        52.5        46.7        32.5  \n",
       "11        24.6        24.4        25.2        35.0  \n",
       "12        11.0        16.0        24.4        29.5  \n",
       "13         0.0         0.0         0.1         0.4  \n",
       "14         NaN         NaN         NaN         NaN  \n",
       "15         NaN         NaN         NaN         NaN  \n",
       "\n",
       "[16 rows x 28 columns]"
      ]
     },
     "execution_count": 4,
     "metadata": {},
     "output_type": "execute_result"
    }
   ],
   "source": [
    "df=pd.read_csv(\"leisure activity.csv\") #파일불러옴\n",
    "df leisure activity.csv"
   ]
  },
  {
   "cell_type": "code",
   "execution_count": 5,
   "metadata": {},
   "outputs": [],
   "source": [
    "#불필요한 행,열 지움(19년도 자료만 남김)\n",
    "df = df.drop(columns=[\"앞으로 하고 싶은 여가활동(2015~2017,복수응답)\", \"Unnamed: 2\",\"Unnamed: 3\",\"Unnamed: 4\",\"Unnamed: 5\",\"Unnamed: 6\",\"Unnamed: 7\",\"Unnamed: 8\",\"Unnamed: 9\",\"Unnamed: 10\",\"Unnamed: 11\",\"Unnamed: 12\",\"Unnamed: 13\",\"Unnamed: 14\",\"Unnamed: 15\",\"Unnamed: 16\",\"Unnamed: 17\",\"Unnamed: 18\",\"Unnamed: 19\",\"Unnamed: 20\",\"Unnamed: 21\"])\n",
    "df = df.drop([0,1,2,13,14,15], errors='ignore') "
   ]
  },
  {
   "cell_type": "code",
   "execution_count": 6,
   "metadata": {},
   "outputs": [
    {
     "data": {
      "text/html": [
       "<div>\n",
       "<style scoped>\n",
       "    .dataframe tbody tr th:only-of-type {\n",
       "        vertical-align: middle;\n",
       "    }\n",
       "\n",
       "    .dataframe tbody tr th {\n",
       "        vertical-align: top;\n",
       "    }\n",
       "\n",
       "    .dataframe thead th {\n",
       "        text-align: right;\n",
       "    }\n",
       "</style>\n",
       "<table border=\"1\" class=\"dataframe\">\n",
       "  <thead>\n",
       "    <tr style=\"text-align: right;\">\n",
       "      <th></th>\n",
       "      <th>13-19세</th>\n",
       "      <th>20-29세</th>\n",
       "      <th>30-39세</th>\n",
       "      <th>40-49세</th>\n",
       "      <th>50-59세</th>\n",
       "      <th>60세이상</th>\n",
       "    </tr>\n",
       "    <tr>\n",
       "      <th>통계표명:</th>\n",
       "      <th></th>\n",
       "      <th></th>\n",
       "      <th></th>\n",
       "      <th></th>\n",
       "      <th></th>\n",
       "      <th></th>\n",
       "    </tr>\n",
       "  </thead>\n",
       "  <tbody>\n",
       "    <tr>\n",
       "      <th>TV 및 DVD 시청</th>\n",
       "      <td>16.8</td>\n",
       "      <td>11.2</td>\n",
       "      <td>10.7</td>\n",
       "      <td>13.5</td>\n",
       "      <td>15.9</td>\n",
       "      <td>31.5</td>\n",
       "    </tr>\n",
       "    <tr>\n",
       "      <th>문화예술관람</th>\n",
       "      <td>46.2</td>\n",
       "      <td>49.9</td>\n",
       "      <td>47.4</td>\n",
       "      <td>45.1</td>\n",
       "      <td>35.9</td>\n",
       "      <td>22.4</td>\n",
       "    </tr>\n",
       "    <tr>\n",
       "      <th>문화예술참여</th>\n",
       "      <td>12.7</td>\n",
       "      <td>14.2</td>\n",
       "      <td>12.1</td>\n",
       "      <td>12.1</td>\n",
       "      <td>10.3</td>\n",
       "      <td>6.2</td>\n",
       "    </tr>\n",
       "    <tr>\n",
       "      <th>스포츠관람</th>\n",
       "      <td>15.5</td>\n",
       "      <td>13.2</td>\n",
       "      <td>12.2</td>\n",
       "      <td>10.7</td>\n",
       "      <td>10.9</td>\n",
       "      <td>7.2</td>\n",
       "    </tr>\n",
       "    <tr>\n",
       "      <th>스포츠 활동</th>\n",
       "      <td>25.8</td>\n",
       "      <td>26.0</td>\n",
       "      <td>28.3</td>\n",
       "      <td>30.2</td>\n",
       "      <td>26.1</td>\n",
       "      <td>14.8</td>\n",
       "    </tr>\n",
       "    <tr>\n",
       "      <th>관광활동</th>\n",
       "      <td>52.0</td>\n",
       "      <td>67.0</td>\n",
       "      <td>73.9</td>\n",
       "      <td>74.8</td>\n",
       "      <td>74.7</td>\n",
       "      <td>67.7</td>\n",
       "    </tr>\n",
       "    <tr>\n",
       "      <th>컴퓨터 게임, 인터넷 검색 등</th>\n",
       "      <td>39.0</td>\n",
       "      <td>18.7</td>\n",
       "      <td>10.3</td>\n",
       "      <td>5.8</td>\n",
       "      <td>3.4</td>\n",
       "      <td>2.4</td>\n",
       "    </tr>\n",
       "    <tr>\n",
       "      <th>취미.자기개발 활동</th>\n",
       "      <td>44.8</td>\n",
       "      <td>54.1</td>\n",
       "      <td>56.3</td>\n",
       "      <td>52.5</td>\n",
       "      <td>46.7</td>\n",
       "      <td>32.5</td>\n",
       "    </tr>\n",
       "    <tr>\n",
       "      <th>휴식활동</th>\n",
       "      <td>30.1</td>\n",
       "      <td>23.2</td>\n",
       "      <td>24.6</td>\n",
       "      <td>24.4</td>\n",
       "      <td>25.2</td>\n",
       "      <td>35.0</td>\n",
       "    </tr>\n",
       "    <tr>\n",
       "      <th>사회 및 기타 활동</th>\n",
       "      <td>6.2</td>\n",
       "      <td>10.2</td>\n",
       "      <td>11.0</td>\n",
       "      <td>16.0</td>\n",
       "      <td>24.4</td>\n",
       "      <td>29.5</td>\n",
       "    </tr>\n",
       "  </tbody>\n",
       "</table>\n",
       "</div>"
      ],
      "text/plain": [
       "                 13-19세 20-29세 30-39세 40-49세 50-59세 60세이상\n",
       "통계표명:                                                    \n",
       "TV 및 DVD 시청        16.8   11.2   10.7   13.5   15.9  31.5\n",
       "문화예술관람             46.2   49.9   47.4   45.1   35.9  22.4\n",
       "문화예술참여             12.7   14.2   12.1   12.1   10.3   6.2\n",
       "스포츠관람              15.5   13.2   12.2   10.7   10.9   7.2\n",
       "스포츠 활동             25.8   26.0   28.3   30.2   26.1  14.8\n",
       "관광활동               52.0   67.0   73.9   74.8   74.7  67.7\n",
       "컴퓨터 게임, 인터넷 검색 등   39.0   18.7   10.3    5.8    3.4   2.4\n",
       "취미.자기개발 활동         44.8   54.1   56.3   52.5   46.7  32.5\n",
       "휴식활동               30.1   23.2   24.6   24.4   25.2  35.0\n",
       "사회 및 기타 활동          6.2   10.2   11.0   16.0   24.4  29.5"
      ]
     },
     "execution_count": 6,
     "metadata": {},
     "output_type": "execute_result"
    }
   ],
   "source": [
    "df = df.set_index(\"통계표명:\") #행의 이름 지정\n",
    "df.columns=['13-19세','20-29세','30-39세','40-49세','50-59세','60세이상'] #열의 이름 지정\n",
    "df"
   ]
  },
  {
   "cell_type": "code",
   "execution_count": 7,
   "metadata": {},
   "outputs": [],
   "source": [
    "#한글폰트깔기\n",
    "import matplotlib\n",
    "from matplotlib import font_manager, rc\n",
    "import platform\n",
    "\n",
    "if platform.system() == 'Windows':\n",
    "    # 윈도우인 경우\n",
    "    font_name = font_manager.FontProperties(fname=\"c:/Windows/Fonts/malgun.ttf\").get_name()\n",
    "    rc('font', family=font_name)\n",
    "    \n",
    "# '-' 기호 보이게 하기\n",
    "matplotlib.rcParams['axes.unicode_minus'] = False"
   ]
  },
  {
   "cell_type": "code",
   "execution_count": 8,
   "metadata": {},
   "outputs": [
    {
     "data": {
      "text/plain": [
       "<matplotlib.axes._subplots.AxesSubplot at 0x2a263647b08>"
      ]
     },
     "execution_count": 8,
     "metadata": {},
     "output_type": "execute_result"
    },
    {
     "data": {
      "image/png": "[encoded data removed]",
      "text/plain": [
       "<Figure size 720x432 with 1 Axes>"
      ]
     },
     "metadata": {
      "needs_background": "light"
     },
     "output_type": "display_data"
    }
   ],
   "source": [
    "df=df.astype(float)\n",
    "see2 = [ '20-29세','30-39세']\n",
    "df[see2].plot(kind='barh', figsize=(10,6), stacked=True)"
   ]
  },
  {
   "cell_type": "code",
   "execution_count": 9,
   "metadata": {},
   "outputs": [
    {
     "data": {
      "image/png": "[encoded data removed]",
      "text/plain": [
       "<Figure size 576x576 with 1 Axes>"
      ]
     },
     "metadata": {
      "needs_background": "light"
     },
     "output_type": "display_data"
    }
   ],
   "source": [
    "plt.figure(figsize=(8,8))\n",
    "plt.scatter(df['20-29세'], df['30-39세'],c='k',marker='o')\n",
    "plt.xlabel('20-29세')\n",
    "plt.ylabel('30-39세')\n",
    "\n",
    "for n in range(df.shape[0]):\n",
    "    plt.text(df['20-29세'][n], df['30-39세'][n], df.index[n])"
   ]
  },
  {
   "cell_type": "code",
   "execution_count": 10,
   "metadata": {},
   "outputs": [],
   "source": [
    "#행,열의 이름 지정해주기(바꿔줌)\n",
    "#df.index=['TV 및 DVD 시청','문화예술관람','문화예술참여','스포츠관람','스포츠 활동','관광활동','컴퓨터 게임, 인터넷 검색 등','취미.자기개발 활동','휴식활동','사회 및 기타 활동','기타']\n",
    "#df.columns=['13-19세','20-29세','30-39세','40-49세','50-59세','60세이상']"
   ]
  },
  {
   "cell_type": "code",
   "execution_count": 11,
   "metadata": {},
   "outputs": [
    {
     "data": {
      "image/png": "[encoded data removed]",
      "text/plain": [
       "<Figure size 1800x576 with 1 Axes>"
      ]
     },
     "metadata": {
      "needs_background": "light"
     },
     "output_type": "display_data"
    }
   ],
   "source": [
    "#덴드로그램\n",
    "from scipy.cluster.hierarchy import dendrogram, linkage\n",
    "import matplotlib.pyplot as plt\n",
    "plt.figure(figsize=(25,8))\n",
    "link_dist = linkage(df, metric='euclidean', method='ward')  \n",
    "dendrogram(link_dist, labels=df.index)\n",
    "plt.show()"
   ]
  },
  {
   "cell_type": "code",
   "execution_count": 12,
   "metadata": {},
   "outputs": [
    {
     "name": "stdout",
     "output_type": "stream",
     "text": [
      "3\n"
     ]
    }
   ],
   "source": [
    "#k-means\n",
    "from sklearn.cluster import KMeans\n",
    "k = KMeans(n_clusters=3).fit(df)  #학습\n",
    "print(k.n_clusters)"
   ]
  },
  {
   "cell_type": "code",
   "execution_count": 13,
   "metadata": {},
   "outputs": [
    {
     "data": {
      "text/html": [
       "<div>\n",
       "<style scoped>\n",
       "    .dataframe tbody tr th:only-of-type {\n",
       "        vertical-align: middle;\n",
       "    }\n",
       "\n",
       "    .dataframe tbody tr th {\n",
       "        vertical-align: top;\n",
       "    }\n",
       "\n",
       "    .dataframe thead th {\n",
       "        text-align: right;\n",
       "    }\n",
       "</style>\n",
       "<table border=\"1\" class=\"dataframe\">\n",
       "  <thead>\n",
       "    <tr style=\"text-align: right;\">\n",
       "      <th></th>\n",
       "      <th>13-19세</th>\n",
       "      <th>20-29세</th>\n",
       "      <th>30-39세</th>\n",
       "      <th>40-49세</th>\n",
       "      <th>50-59세</th>\n",
       "      <th>60세이상</th>\n",
       "      <th>클러스터</th>\n",
       "    </tr>\n",
       "    <tr>\n",
       "      <th>통계표명:</th>\n",
       "      <th></th>\n",
       "      <th></th>\n",
       "      <th></th>\n",
       "      <th></th>\n",
       "      <th></th>\n",
       "      <th></th>\n",
       "      <th></th>\n",
       "    </tr>\n",
       "  </thead>\n",
       "  <tbody>\n",
       "    <tr>\n",
       "      <th>TV 및 DVD 시청</th>\n",
       "      <td>16.8</td>\n",
       "      <td>11.2</td>\n",
       "      <td>10.7</td>\n",
       "      <td>13.5</td>\n",
       "      <td>15.9</td>\n",
       "      <td>31.5</td>\n",
       "      <td>0</td>\n",
       "    </tr>\n",
       "    <tr>\n",
       "      <th>문화예술관람</th>\n",
       "      <td>46.2</td>\n",
       "      <td>49.9</td>\n",
       "      <td>47.4</td>\n",
       "      <td>45.1</td>\n",
       "      <td>35.9</td>\n",
       "      <td>22.4</td>\n",
       "      <td>2</td>\n",
       "    </tr>\n",
       "    <tr>\n",
       "      <th>문화예술참여</th>\n",
       "      <td>12.7</td>\n",
       "      <td>14.2</td>\n",
       "      <td>12.1</td>\n",
       "      <td>12.1</td>\n",
       "      <td>10.3</td>\n",
       "      <td>6.2</td>\n",
       "      <td>0</td>\n",
       "    </tr>\n",
       "    <tr>\n",
       "      <th>스포츠관람</th>\n",
       "      <td>15.5</td>\n",
       "      <td>13.2</td>\n",
       "      <td>12.2</td>\n",
       "      <td>10.7</td>\n",
       "      <td>10.9</td>\n",
       "      <td>7.2</td>\n",
       "      <td>0</td>\n",
       "    </tr>\n",
       "    <tr>\n",
       "      <th>스포츠 활동</th>\n",
       "      <td>25.8</td>\n",
       "      <td>26.0</td>\n",
       "      <td>28.3</td>\n",
       "      <td>30.2</td>\n",
       "      <td>26.1</td>\n",
       "      <td>14.8</td>\n",
       "      <td>0</td>\n",
       "    </tr>\n",
       "    <tr>\n",
       "      <th>관광활동</th>\n",
       "      <td>52.0</td>\n",
       "      <td>67.0</td>\n",
       "      <td>73.9</td>\n",
       "      <td>74.8</td>\n",
       "      <td>74.7</td>\n",
       "      <td>67.7</td>\n",
       "      <td>1</td>\n",
       "    </tr>\n",
       "    <tr>\n",
       "      <th>컴퓨터 게임, 인터넷 검색 등</th>\n",
       "      <td>39.0</td>\n",
       "      <td>18.7</td>\n",
       "      <td>10.3</td>\n",
       "      <td>5.8</td>\n",
       "      <td>3.4</td>\n",
       "      <td>2.4</td>\n",
       "      <td>0</td>\n",
       "    </tr>\n",
       "    <tr>\n",
       "      <th>취미.자기개발 활동</th>\n",
       "      <td>44.8</td>\n",
       "      <td>54.1</td>\n",
       "      <td>56.3</td>\n",
       "      <td>52.5</td>\n",
       "      <td>46.7</td>\n",
       "      <td>32.5</td>\n",
       "      <td>2</td>\n",
       "    </tr>\n",
       "    <tr>\n",
       "      <th>휴식활동</th>\n",
       "      <td>30.1</td>\n",
       "      <td>23.2</td>\n",
       "      <td>24.6</td>\n",
       "      <td>24.4</td>\n",
       "      <td>25.2</td>\n",
       "      <td>35.0</td>\n",
       "      <td>0</td>\n",
       "    </tr>\n",
       "    <tr>\n",
       "      <th>사회 및 기타 활동</th>\n",
       "      <td>6.2</td>\n",
       "      <td>10.2</td>\n",
       "      <td>11.0</td>\n",
       "      <td>16.0</td>\n",
       "      <td>24.4</td>\n",
       "      <td>29.5</td>\n",
       "      <td>0</td>\n",
       "    </tr>\n",
       "  </tbody>\n",
       "</table>\n",
       "</div>"
      ],
      "text/plain": [
       "                  13-19세  20-29세  30-39세  40-49세  50-59세  60세이상  클러스터\n",
       "통계표명:                                                                \n",
       "TV 및 DVD 시청         16.8    11.2    10.7    13.5    15.9   31.5     0\n",
       "문화예술관람              46.2    49.9    47.4    45.1    35.9   22.4     2\n",
       "문화예술참여              12.7    14.2    12.1    12.1    10.3    6.2     0\n",
       "스포츠관람               15.5    13.2    12.2    10.7    10.9    7.2     0\n",
       "스포츠 활동              25.8    26.0    28.3    30.2    26.1   14.8     0\n",
       "관광활동                52.0    67.0    73.9    74.8    74.7   67.7     1\n",
       "컴퓨터 게임, 인터넷 검색 등    39.0    18.7    10.3     5.8     3.4    2.4     0\n",
       "취미.자기개발 활동          44.8    54.1    56.3    52.5    46.7   32.5     2\n",
       "휴식활동                30.1    23.2    24.6    24.4    25.2   35.0     0\n",
       "사회 및 기타 활동           6.2    10.2    11.0    16.0    24.4   29.5     0"
      ]
     },
     "execution_count": 13,
     "metadata": {},
     "output_type": "execute_result"
    }
   ],
   "source": [
    "df['클러스터'] = k.labels_\n",
    "df"
   ]
  },
  {
   "cell_type": "code",
   "execution_count": 14,
   "metadata": {},
   "outputs": [],
   "source": [
    "df.drop('클러스터', axis = 1, inplace=True)"
   ]
  },
  {
   "cell_type": "code",
   "execution_count": 15,
   "metadata": {},
   "outputs": [
    {
     "data": {
      "text/plain": [
       "10"
      ]
     },
     "execution_count": 15,
     "metadata": {},
     "output_type": "execute_result"
    }
   ],
   "source": [
    "n_samples = df.shape[0] ; n_samples"
   ]
  },
  {
   "cell_type": "code",
   "execution_count": 16,
   "metadata": {},
   "outputs": [
    {
     "data": {
      "text/plain": [
       "array([[20.87142857, 16.67142857, 15.6       , 16.1       , 16.6       ,\n",
       "        18.08571429],\n",
       "       [52.        , 67.        , 73.9       , 74.8       , 74.7       ,\n",
       "        67.7       ],\n",
       "       [45.5       , 52.        , 51.85      , 48.8       , 41.3       ,\n",
       "        27.45      ]])"
      ]
     },
     "execution_count": 16,
     "metadata": {},
     "output_type": "execute_result"
    }
   ],
   "source": [
    "centers = k.cluster_centers_ ; centers"
   ]
  },
  {
   "cell_type": "code",
   "execution_count": 17,
   "metadata": {},
   "outputs": [
    {
     "data": {
      "image/png": "[encoded data removed]",
      "text/plain": [
       "<Figure size 720x576 with 1 Axes>"
      ]
     },
     "metadata": {
      "needs_background": "light"
     },
     "output_type": "display_data"
    }
   ],
   "source": [
    "my_markers=['*','^', 'o','^','.',',','1','2']\n",
    "my_color =['r','c','g','b','g','k','r','y']\n",
    "\n",
    "plt.figure(figsize=(10, 8))\n",
    "plt.xlabel('20-29세')\n",
    "plt.ylabel('30-39세')\n",
    "for n in range(df.shape[0]):\n",
    "    label = k.labels_[n]\n",
    "    plt.scatter(df['20-29세'][n], df['30-39세'][n], c=my_color[label], marker=my_markers[label], s=100)\n",
    "    plt.text(df['20-29세'][n]*1.03, df['30-39세'][n]*0.98, df.index[n])\n",
    "    \n",
    "for i in range(k.n_clusters):\n",
    "    plt.scatter(centers[i][0], centers[i][1], marker='x', c = 'y', s= 500)"
   ]
  },
  {
   "cell_type": "code",
   "execution_count": 18,
   "metadata": {},
   "outputs": [
    {
     "data": {
      "text/html": [
       "<div>\n",
       "<style scoped>\n",
       "    .dataframe tbody tr th:only-of-type {\n",
       "        vertical-align: middle;\n",
       "    }\n",
       "\n",
       "    .dataframe tbody tr th {\n",
       "        vertical-align: top;\n",
       "    }\n",
       "\n",
       "    .dataframe thead th {\n",
       "        text-align: right;\n",
       "    }\n",
       "</style>\n",
       "<table border=\"1\" class=\"dataframe\">\n",
       "  <thead>\n",
       "    <tr style=\"text-align: right;\">\n",
       "      <th></th>\n",
       "      <th>13-19세</th>\n",
       "      <th>20-29세</th>\n",
       "      <th>30-39세</th>\n",
       "      <th>40-49세</th>\n",
       "      <th>50-59세</th>\n",
       "      <th>60세이상</th>\n",
       "    </tr>\n",
       "    <tr>\n",
       "      <th>통계표명:</th>\n",
       "      <th></th>\n",
       "      <th></th>\n",
       "      <th></th>\n",
       "      <th></th>\n",
       "      <th></th>\n",
       "      <th></th>\n",
       "    </tr>\n",
       "  </thead>\n",
       "  <tbody>\n",
       "    <tr>\n",
       "      <th>TV 및 DVD 시청</th>\n",
       "      <td>-0.798082</td>\n",
       "      <td>-0.901562</td>\n",
       "      <td>-0.829787</td>\n",
       "      <td>-0.707791</td>\n",
       "      <td>-0.574627</td>\n",
       "      <td>0.360375</td>\n",
       "    </tr>\n",
       "    <tr>\n",
       "      <th>문화예술관람</th>\n",
       "      <td>1.139457</td>\n",
       "      <td>1.084234</td>\n",
       "      <td>0.863938</td>\n",
       "      <td>0.782296</td>\n",
       "      <td>0.429088</td>\n",
       "      <td>-0.138016</td>\n",
       "    </tr>\n",
       "    <tr>\n",
       "      <th>문화예술참여</th>\n",
       "      <td>-1.068283</td>\n",
       "      <td>-0.747624</td>\n",
       "      <td>-0.765176</td>\n",
       "      <td>-0.773808</td>\n",
       "      <td>-0.855667</td>\n",
       "      <td>-1.025262</td>\n",
       "    </tr>\n",
       "    <tr>\n",
       "      <th>스포츠관람</th>\n",
       "      <td>-0.883755</td>\n",
       "      <td>-0.798936</td>\n",
       "      <td>-0.760561</td>\n",
       "      <td>-0.839824</td>\n",
       "      <td>-0.825556</td>\n",
       "      <td>-0.970494</td>\n",
       "    </tr>\n",
       "    <tr>\n",
       "      <th>스포츠 활동</th>\n",
       "      <td>-0.204957</td>\n",
       "      <td>-0.142136</td>\n",
       "      <td>-0.017537</td>\n",
       "      <td>0.079691</td>\n",
       "      <td>-0.062732</td>\n",
       "      <td>-0.554255</td>\n",
       "    </tr>\n",
       "    <tr>\n",
       "      <th>관광활동</th>\n",
       "      <td>1.521693</td>\n",
       "      <td>1.961679</td>\n",
       "      <td>2.086928</td>\n",
       "      <td>2.182789</td>\n",
       "      <td>2.376295</td>\n",
       "      <td>2.342987</td>\n",
       "    </tr>\n",
       "    <tr>\n",
       "      <th>컴퓨터 게임, 인터넷 검색 등</th>\n",
       "      <td>0.664958</td>\n",
       "      <td>-0.516717</td>\n",
       "      <td>-0.848247</td>\n",
       "      <td>-1.070882</td>\n",
       "      <td>-1.201949</td>\n",
       "      <td>-1.233382</td>\n",
       "    </tr>\n",
       "    <tr>\n",
       "      <th>취미.자기개발 활동</th>\n",
       "      <td>1.047194</td>\n",
       "      <td>1.299747</td>\n",
       "      <td>1.274678</td>\n",
       "      <td>1.131240</td>\n",
       "      <td>0.971094</td>\n",
       "      <td>0.415144</td>\n",
       "    </tr>\n",
       "    <tr>\n",
       "      <th>휴식활동</th>\n",
       "      <td>0.078424</td>\n",
       "      <td>-0.285811</td>\n",
       "      <td>-0.188294</td>\n",
       "      <td>-0.193806</td>\n",
       "      <td>-0.107899</td>\n",
       "      <td>0.552064</td>\n",
       "    </tr>\n",
       "    <tr>\n",
       "      <th>사회 및 기타 활동</th>\n",
       "      <td>-1.496650</td>\n",
       "      <td>-0.952874</td>\n",
       "      <td>-0.815942</td>\n",
       "      <td>-0.589905</td>\n",
       "      <td>-0.148048</td>\n",
       "      <td>0.250839</td>\n",
       "    </tr>\n",
       "  </tbody>\n",
       "</table>\n",
       "</div>"
      ],
      "text/plain": [
       "                    13-19세    20-29세    30-39세    40-49세    50-59세     60세이상\n",
       "통계표명:                                                                       \n",
       "TV 및 DVD 시청      -0.798082 -0.901562 -0.829787 -0.707791 -0.574627  0.360375\n",
       "문화예술관람            1.139457  1.084234  0.863938  0.782296  0.429088 -0.138016\n",
       "문화예술참여           -1.068283 -0.747624 -0.765176 -0.773808 -0.855667 -1.025262\n",
       "스포츠관람            -0.883755 -0.798936 -0.760561 -0.839824 -0.825556 -0.970494\n",
       "스포츠 활동           -0.204957 -0.142136 -0.017537  0.079691 -0.062732 -0.554255\n",
       "관광활동              1.521693  1.961679  2.086928  2.182789  2.376295  2.342987\n",
       "컴퓨터 게임, 인터넷 검색 등  0.664958 -0.516717 -0.848247 -1.070882 -1.201949 -1.233382\n",
       "취미.자기개발 활동        1.047194  1.299747  1.274678  1.131240  0.971094  0.415144\n",
       "휴식활동              0.078424 -0.285811 -0.188294 -0.193806 -0.107899  0.552064\n",
       "사회 및 기타 활동       -1.496650 -0.952874 -0.815942 -0.589905 -0.148048  0.250839"
      ]
     },
     "execution_count": 18,
     "metadata": {},
     "output_type": "execute_result"
    }
   ],
   "source": [
    "#스케일링\n",
    "from sklearn.preprocessing import StandardScaler\n",
    "scaler = StandardScaler()\n",
    "df[['13-19세','20-29세', '30-39세','40-49세','50-59세','60세이상']] = scaler.fit_transform(df[['13-19세','20-29세', '30-39세','40-49세','50-59세','60세이상']])\n",
    "df"
   ]
  },
  {
   "cell_type": "code",
   "execution_count": 19,
   "metadata": {},
   "outputs": [
    {
     "data": {
      "image/png": "[encoded data removed]",
      "text/plain": [
       "<Figure size 1800x576 with 1 Axes>"
      ]
     },
     "metadata": {
      "needs_background": "light"
     },
     "output_type": "display_data"
    }
   ],
   "source": [
    "#정규화이후의 클러스터링\n",
    "\n",
    "Z = linkage(df, metric='euclidean', method='ward') \n",
    "# 유클리드 거리를 이용해 Linkage Matrix를 생성\n",
    "plt.figure(figsize=(25, 8))\n",
    "plt.title('덴드로그램')\n",
    "dendrogram(Z, labels=df.index)\n",
    "plt.show()"
   ]
  },
  {
   "cell_type": "code",
   "execution_count": 20,
   "metadata": {},
   "outputs": [],
   "source": [
    "k = KMeans(n_clusters= 3).fit(df)"
   ]
  },
  {
   "cell_type": "code",
   "execution_count": 21,
   "metadata": {},
   "outputs": [],
   "source": [
    "centers = k.cluster_centers_"
   ]
  },
  {
   "cell_type": "code",
   "execution_count": 22,
   "metadata": {},
   "outputs": [
    {
     "data": {
      "text/plain": [
       "<Figure size 432x288 with 0 Axes>"
      ]
     },
     "metadata": {},
     "output_type": "display_data"
    },
    {
     "data": {
      "image/png": "[encoded data removed]",
      "text/plain": [
       "<Figure size 720x576 with 1 Axes>"
      ]
     },
     "metadata": {
      "needs_background": "light"
     },
     "output_type": "display_data"
    }
   ],
   "source": [
    "plt.clf()\n",
    "plt.figure(figsize=(10, 8))\n",
    "plt.xlabel('20대')\n",
    "plt.ylabel('30대')\n",
    "\n",
    "for n in range(df.shape[0]):\n",
    "    label = k.labels_[n]\n",
    "    plt.scatter(df['20-29세'][n], df['30-39세'][n], c=my_color[label], marker=my_markers[label], s=100)\n",
    "    plt.text(df['20-29세'][n]*1.05, df['30-39세'][n]*0.99, df.index[n])\n",
    "    \n",
    "for i in range(k.n_clusters):\n",
    "    plt.scatter(centers[i][0], centers[i][1], marker='x', c = 'y', s= 500)"
   ]
  },
  {
   "cell_type": "code",
   "execution_count": 28,
   "metadata": {},
   "outputs": [
    {
     "data": {
      "text/plain": [
       "<Figure size 432x288 with 0 Axes>"
      ]
     },
     "metadata": {},
     "output_type": "display_data"
    },
    {
     "data": {
      "image/png": "[encoded data removed]",
      "text/plain": [
       "<Figure size 720x576 with 1 Axes>"
      ]
     },
     "metadata": {
      "needs_background": "light"
     },
     "output_type": "display_data"
    }
   ],
   "source": [
    "plt.clf()\n",
    "plt.figure(figsize=(10, 8))\n",
    "plt.xlabel('10대')\n",
    "plt.ylabel('60대이상')\n",
    "\n",
    "for n in range(df.shape[0]):\n",
    "    label = k.labels_[n]\n",
    "    plt.scatter(df['13-19세'][n], df['60세이상'][n], c=my_color[label], marker=my_markers[label], s=100)\n",
    "    plt.text(df['13-19세'][n]*1.05, df['60세이상'][n]*0.99, df.index[n])\n",
    "    \n",
    "for i in range(k.n_clusters):\n",
    "    plt.scatter(centers[i][0], centers[i][1], marker='x', c = 'y', s= 500)"
   ]
  },
  {
   "cell_type": "code",
   "execution_count": 29,
   "metadata": {},
   "outputs": [
    {
     "data": {
      "text/plain": [
       "<Figure size 432x288 with 0 Axes>"
      ]
     },
     "metadata": {},
     "output_type": "display_data"
    },
    {
     "data": {
      "image/png": "[encoded data removed]",
      "text/plain": [
       "<Figure size 720x576 with 1 Axes>"
      ]
     },
     "metadata": {
      "needs_background": "light"
     },
     "output_type": "display_data"
    }
   ],
   "source": [
    "plt.clf()\n",
    "plt.figure(figsize=(10, 8))\n",
    "plt.xlabel('20대')\n",
    "plt.ylabel('60대이상')\n",
    "\n",
    "for n in range(df.shape[0]):\n",
    "    label = k.labels_[n]\n",
    "    plt.scatter(df['20-29세'][n], df['60세이상'][n], c=my_color[label], marker=my_markers[label], s=100)\n",
    "    plt.text(df['20-29세'][n]*1.05, df['60세이상'][n]*0.99, df.index[n])\n",
    "    \n",
    "for i in range(k.n_clusters):\n",
    "    plt.scatter(centers[i][0], centers[i][1], marker='x', c = 'y', s= 500)"
   ]
  },
  {
   "cell_type": "code",
   "execution_count": 30,
   "metadata": {},
   "outputs": [
    {
     "data": {
      "text/plain": [
       "<Figure size 432x288 with 0 Axes>"
      ]
     },
     "metadata": {},
     "output_type": "display_data"
    },
    {
     "data": {
      "image/png": "[encoded data removed]",
      "text/plain": [
       "<Figure size 720x576 with 1 Axes>"
      ]
     },
     "metadata": {
      "needs_background": "light"
     },
     "output_type": "display_data"
    }
   ],
   "source": [
    "plt.clf()\n",
    "plt.figure(figsize=(10, 8))\n",
    "plt.xlabel('10대')\n",
    "plt.ylabel('20대')\n",
    "\n",
    "for n in range(df.shape[0]):\n",
    "    label = k.labels_[n]\n",
    "    plt.scatter(df['13-19세'][n], df['20-29세'][n], c=my_color[label], marker=my_markers[label], s=100)\n",
    "    plt.text(df['13-19세'][n]*1.05, df['20-29세'][n]*0.99, df.index[n])\n",
    "    \n",
    "for i in range(k.n_clusters):\n",
    "    plt.scatter(centers[i][0], centers[i][1], marker='x', c = 'y', s= 500)"
   ]
  },
  {
   "cell_type": "code",
   "execution_count": 31,
   "metadata": {},
   "outputs": [
    {
     "data": {
      "text/plain": [
       "<Figure size 432x288 with 0 Axes>"
      ]
     },
     "metadata": {},
     "output_type": "display_data"
    },
    {
     "data": {
      "image/png": "[encoded data removed]",
      "text/plain": [
       "<Figure size 720x576 with 1 Axes>"
      ]
     },
     "metadata": {
      "needs_background": "light"
     },
     "output_type": "display_data"
    }
   ],
   "source": [
    "plt.clf()\n",
    "plt.figure(figsize=(10, 8))\n",
    "plt.xlabel('20대')\n",
    "plt.ylabel('30대')\n",
    "\n",
    "for n in range(df.shape[0]):\n",
    "    label = k.labels_[n]\n",
    "    plt.scatter(df['20-29세'][n], df['30-39세'][n], c=my_color[label], marker=my_markers[label], s=100)\n",
    "    plt.text(df['20-29세'][n]*1.05, df['30-39세'][n]*0.99, df.index[n])\n",
    "    \n",
    "for i in range(k.n_clusters):\n",
    "    plt.scatter(centers[i][0], centers[i][1], marker='x', c = 'y', s= 500)"
   ]
  },
  {
   "cell_type": "code",
   "execution_count": 33,
   "metadata": {},
   "outputs": [
    {
     "data": {
      "text/plain": [
       "<Figure size 432x288 with 0 Axes>"
      ]
     },
     "metadata": {},
     "output_type": "display_data"
    },
    {
     "data": {
      "image/png": "[encoded data removed]",
      "text/plain": [
       "<Figure size 720x576 with 1 Axes>"
      ]
     },
     "metadata": {
      "needs_background": "light"
     },
     "output_type": "display_data"
    }
   ],
   "source": [
    "plt.clf()\n",
    "plt.figure(figsize=(10, 8))\n",
    "plt.xlabel('40대')\n",
    "plt.ylabel('50대')\n",
    "\n",
    "for n in range(df.shape[0]):\n",
    "    label = k.labels_[n]\n",
    "    plt.scatter(df['40-49세'][n], df['50-59세'][n], c=my_color[label], marker=my_markers[label], s=100)\n",
    "    plt.text(df['40-49세'][n]*1.05, df['50-59세'][n]*0.99, df.index[n])\n",
    "    \n",
    "for i in range(k.n_clusters):\n",
    "    plt.scatter(centers[i][0], centers[i][1], marker='x', c = 'y', s= 500)"
   ]
  }
 ],
 "metadata": {
  "kernelspec": {
   "display_name": "Python 3",
   "language": "python",
   "name": "python3"
  },
  "language_info": {
   "codemirror_mode": {
    "name": "ipython",
    "version": 3
   },
   "file_extension": ".py",
   "mimetype": "text/x-python",
   "name": "python",
   "nbconvert_exporter": "python",
   "pygments_lexer": "ipython3",
   "version": "3.7.6"
  }
 },
 "nbformat": 4,
 "nbformat_minor": 4
}
